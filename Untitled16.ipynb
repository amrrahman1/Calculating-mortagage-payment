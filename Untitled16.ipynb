{
  "nbformat": 4,
  "nbformat_minor": 0,
  "metadata": {
    "colab": {
      "name": "Untitled16.ipynb",
      "provenance": [],
      "authorship_tag": "ABX9TyPsXJlbEL+J7y5AKueZ5vqZ",
      "include_colab_link": true
    },
    "kernelspec": {
      "name": "python3",
      "display_name": "Python 3"
    },
    "language_info": {
      "name": "python"
    }
  },
  "cells": [
    {
      "cell_type": "markdown",
      "metadata": {
        "id": "view-in-github",
        "colab_type": "text"
      },
      "source": [
        "<a href=\"https://colab.research.google.com/github/amrrahman1/Calculating-mortagage-payment/blob/main/Untitled16.ipynb\" target=\"_parent\"><img src=\"https://colab.research.google.com/assets/colab-badge.svg\" alt=\"Open In Colab\"/></a>"
      ]
    },
    {
      "cell_type": "code",
      "metadata": {
        "colab": {
          "base_uri": "https://localhost:8080/"
        },
        "id": "PWBYKSjy9dfi",
        "outputId": "f5d4e56c-2a87-48cf-80bd-ff2f332c3ca5"
      },
      "source": [
        "# Question 1 : interest rate is 3%\n",
        "p = 400000\n",
        "r = 0.03/12\n",
        "n = 30 * 12\n",
        "numerator = (r * ((1+r)**(n)))\n",
        "denominator = ((1+r)**(n)) -1\n",
        "result = p* (numerator / denominator)\n",
        "print (result)\n",
        "\n",
        "\n"
      ],
      "execution_count": 16,
      "outputs": [
        {
          "output_type": "stream",
          "name": "stdout",
          "text": [
            "1686.4161349178237\n"
          ]
        }
      ]
    },
    {
      "cell_type": "code",
      "metadata": {
        "colab": {
          "base_uri": "https://localhost:8080/"
        },
        "id": "toyrt36XA-bs",
        "outputId": "2449445d-ca1e-420e-ccca-326388542648"
      },
      "source": [
        "# Question 2 : interest rate is 3%\n",
        "p = 400000\n",
        "r = 0.06/12\n",
        "n = 30 * 12\n",
        "numerator = (r * ((1+r)**(n)))\n",
        "denominator = ((1+r)**(n)) -1\n",
        "result = p* (numerator / denominator)\n",
        "print (result)\n"
      ],
      "execution_count": 15,
      "outputs": [
        {
          "output_type": "stream",
          "name": "stdout",
          "text": [
            "2398.2021006110276\n"
          ]
        }
      ]
    },
    {
      "cell_type": "code",
      "metadata": {
        "id": "i7SidxTLFj8u"
      },
      "source": [
        ""
      ],
      "execution_count": null,
      "outputs": []
    }
  ]
}